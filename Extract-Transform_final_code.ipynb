{
 "cells": [
  {
   "cell_type": "code",
   "execution_count": 1,
   "id": "4f8749b3",
   "metadata": {},
   "outputs": [],
   "source": [
    "import pandas as pd"
   ]
  },
  {
   "cell_type": "code",
   "execution_count": 2,
   "id": "2d4ac8d6",
   "metadata": {},
   "outputs": [
    {
     "data": {
      "text/html": [
       "<div>\n",
       "<style scoped>\n",
       "    .dataframe tbody tr th:only-of-type {\n",
       "        vertical-align: middle;\n",
       "    }\n",
       "\n",
       "    .dataframe tbody tr th {\n",
       "        vertical-align: top;\n",
       "    }\n",
       "\n",
       "    .dataframe thead th {\n",
       "        text-align: right;\n",
       "    }\n",
       "</style>\n",
       "<table border=\"1\" class=\"dataframe\">\n",
       "  <thead>\n",
       "    <tr style=\"text-align: right;\">\n",
       "      <th></th>\n",
       "      <th>backer_info</th>\n",
       "    </tr>\n",
       "  </thead>\n",
       "  <tbody>\n",
       "    <tr>\n",
       "      <th>0</th>\n",
       "      <td>{\"backer_id\": \"av166\", \"cf_id\": 968, \"name\": \"...</td>\n",
       "    </tr>\n",
       "    <tr>\n",
       "      <th>1</th>\n",
       "      <td>{\"backer_id\": \"ha127\", \"cf_id\": 563, \"name\": \"...</td>\n",
       "    </tr>\n",
       "    <tr>\n",
       "      <th>2</th>\n",
       "      <td>{\"backer_id\": \"lg794\", \"cf_id\": 65, \"name\": \"L...</td>\n",
       "    </tr>\n",
       "    <tr>\n",
       "      <th>3</th>\n",
       "      <td>{\"backer_id\": \"tb566\", \"cf_id\": 563, \"name\": \"...</td>\n",
       "    </tr>\n",
       "    <tr>\n",
       "      <th>4</th>\n",
       "      <td>{\"backer_id\": \"lh506\", \"cf_id\": 563, \"name\": \"...</td>\n",
       "    </tr>\n",
       "  </tbody>\n",
       "</table>\n",
       "</div>"
      ],
      "text/plain": [
       "                                         backer_info\n",
       "0  {\"backer_id\": \"av166\", \"cf_id\": 968, \"name\": \"...\n",
       "1  {\"backer_id\": \"ha127\", \"cf_id\": 563, \"name\": \"...\n",
       "2  {\"backer_id\": \"lg794\", \"cf_id\": 65, \"name\": \"L...\n",
       "3  {\"backer_id\": \"tb566\", \"cf_id\": 563, \"name\": \"...\n",
       "4  {\"backer_id\": \"lh506\", \"cf_id\": 563, \"name\": \"..."
      ]
     },
     "execution_count": 2,
     "metadata": {},
     "output_type": "execute_result"
    }
   ],
   "source": [
    "backer_info_data = pd.read_csv(\"backer_info.csv\")\n",
    "backer_info_data.head()"
   ]
  },
  {
   "cell_type": "code",
   "execution_count": 3,
   "id": "a7b2b81d",
   "metadata": {},
   "outputs": [
    {
     "data": {
      "text/plain": [
       "0       {\"backer_id\": \"av166\", \"cf_id\": 968, \"name\": \"...\n",
       "1       {\"backer_id\": \"ha127\", \"cf_id\": 563, \"name\": \"...\n",
       "2       {\"backer_id\": \"lg794\", \"cf_id\": 65, \"name\": \"L...\n",
       "3       {\"backer_id\": \"tb566\", \"cf_id\": 563, \"name\": \"...\n",
       "4       {\"backer_id\": \"lh506\", \"cf_id\": 563, \"name\": \"...\n",
       "                              ...                        \n",
       "8170    {\"backer_id\": \"st581\", \"cf_id\": 65, \"name\": \"S...\n",
       "8171    {\"backer_id\": \"gf637\", \"cf_id\": 563, \"name\": \"...\n",
       "8172    {\"backer_id\": \"rc983\", \"cf_id\": 1114, \"name\": ...\n",
       "8173    {\"backer_id\": \"cz381\", \"cf_id\": 65, \"name\": \"C...\n",
       "8174    {\"backer_id\": \"fg535\", \"cf_id\": 65, \"name\": \"F...\n",
       "Name: backer_info, Length: 8175, dtype: object"
      ]
     },
     "execution_count": 3,
     "metadata": {},
     "output_type": "execute_result"
    }
   ],
   "source": [
    "backer_info_data[\"backer_info\"]"
   ]
  },
  {
   "cell_type": "code",
   "execution_count": 4,
   "id": "46a39030",
   "metadata": {},
   "outputs": [
    {
     "name": "stdout",
     "output_type": "stream",
     "text": [
      "<class 'pandas.core.frame.DataFrame'>\n",
      "RangeIndex: 8175 entries, 0 to 8174\n",
      "Data columns (total 1 columns):\n",
      " #   Column       Non-Null Count  Dtype \n",
      "---  ------       --------------  ----- \n",
      " 0   backer_info  8175 non-null   object\n",
      "dtypes: object(1)\n",
      "memory usage: 64.0+ KB\n"
     ]
    }
   ],
   "source": [
    "backer_info_data.info()"
   ]
  },
  {
   "cell_type": "code",
   "execution_count": 5,
   "id": "e4059269",
   "metadata": {},
   "outputs": [
    {
     "data": {
      "text/html": [
       "<div>\n",
       "<style scoped>\n",
       "    .dataframe tbody tr th:only-of-type {\n",
       "        vertical-align: middle;\n",
       "    }\n",
       "\n",
       "    .dataframe tbody tr th {\n",
       "        vertical-align: top;\n",
       "    }\n",
       "\n",
       "    .dataframe thead th {\n",
       "        text-align: right;\n",
       "    }\n",
       "</style>\n",
       "<table border=\"1\" class=\"dataframe\">\n",
       "  <thead>\n",
       "    <tr style=\"text-align: right;\">\n",
       "      <th></th>\n",
       "      <th>backer_id</th>\n",
       "      <th>cf_id</th>\n",
       "      <th>name</th>\n",
       "      <th>email</th>\n",
       "    </tr>\n",
       "  </thead>\n",
       "  <tbody>\n",
       "    <tr>\n",
       "      <th>0</th>\n",
       "      <td>av166</td>\n",
       "      <td>968</td>\n",
       "      <td>Angelo Vincent</td>\n",
       "      <td>avincent@live.com</td>\n",
       "    </tr>\n",
       "    <tr>\n",
       "      <th>1</th>\n",
       "      <td>ha127</td>\n",
       "      <td>563</td>\n",
       "      <td>Hubert Arnold</td>\n",
       "      <td>harnold@yandex.com</td>\n",
       "    </tr>\n",
       "    <tr>\n",
       "      <th>2</th>\n",
       "      <td>lg794</td>\n",
       "      <td>65</td>\n",
       "      <td>Loris Goulet</td>\n",
       "      <td>lgoulet@yandex.com</td>\n",
       "    </tr>\n",
       "    <tr>\n",
       "      <th>3</th>\n",
       "      <td>tb566</td>\n",
       "      <td>563</td>\n",
       "      <td>Teodora Brunelli</td>\n",
       "      <td>tbrunelli@outlook.com</td>\n",
       "    </tr>\n",
       "    <tr>\n",
       "      <th>4</th>\n",
       "      <td>lh506</td>\n",
       "      <td>563</td>\n",
       "      <td>Lexie Hunt</td>\n",
       "      <td>lhunt@live.com</td>\n",
       "    </tr>\n",
       "  </tbody>\n",
       "</table>\n",
       "</div>"
      ],
      "text/plain": [
       "  backer_id  cf_id              name                  email\n",
       "0     av166    968    Angelo Vincent      avincent@live.com\n",
       "1     ha127    563     Hubert Arnold     harnold@yandex.com\n",
       "2     lg794     65      Loris Goulet     lgoulet@yandex.com\n",
       "3     tb566    563  Teodora Brunelli  tbrunelli@outlook.com\n",
       "4     lh506    563        Lexie Hunt         lhunt@live.com"
      ]
     },
     "execution_count": 5,
     "metadata": {},
     "output_type": "execute_result"
    }
   ],
   "source": [
    "backer_info_df = pd.DataFrame([eval(l) for l in list(backer_info_data[\"backer_info\"])])\n",
    "backer_info_df.head()"
   ]
  },
  {
   "cell_type": "code",
   "execution_count": 6,
   "id": "43686bb7",
   "metadata": {},
   "outputs": [
    {
     "name": "stdout",
     "output_type": "stream",
     "text": [
      "<class 'pandas.core.frame.DataFrame'>\n",
      "RangeIndex: 8175 entries, 0 to 8174\n",
      "Data columns (total 4 columns):\n",
      " #   Column     Non-Null Count  Dtype \n",
      "---  ------     --------------  ----- \n",
      " 0   backer_id  8175 non-null   object\n",
      " 1   cf_id      8175 non-null   int64 \n",
      " 2   name       8175 non-null   object\n",
      " 3   email      8175 non-null   object\n",
      "dtypes: int64(1), object(3)\n",
      "memory usage: 255.6+ KB\n"
     ]
    }
   ],
   "source": [
    "backer_info_df.info()"
   ]
  },
  {
   "cell_type": "code",
   "execution_count": 7,
   "id": "89b62059",
   "metadata": {},
   "outputs": [
    {
     "data": {
      "text/html": [
       "<div>\n",
       "<style scoped>\n",
       "    .dataframe tbody tr th:only-of-type {\n",
       "        vertical-align: middle;\n",
       "    }\n",
       "\n",
       "    .dataframe tbody tr th {\n",
       "        vertical-align: top;\n",
       "    }\n",
       "\n",
       "    .dataframe thead th {\n",
       "        text-align: right;\n",
       "    }\n",
       "</style>\n",
       "<table border=\"1\" class=\"dataframe\">\n",
       "  <thead>\n",
       "    <tr style=\"text-align: right;\">\n",
       "      <th></th>\n",
       "      <th>backer_id</th>\n",
       "      <th>cf_id</th>\n",
       "      <th>first_name</th>\n",
       "      <th>last_name</th>\n",
       "      <th>email</th>\n",
       "    </tr>\n",
       "  </thead>\n",
       "  <tbody>\n",
       "    <tr>\n",
       "      <th>0</th>\n",
       "      <td>av166</td>\n",
       "      <td>968</td>\n",
       "      <td>Angelo</td>\n",
       "      <td>Vincent</td>\n",
       "      <td>avincent@live.com</td>\n",
       "    </tr>\n",
       "    <tr>\n",
       "      <th>1</th>\n",
       "      <td>ha127</td>\n",
       "      <td>563</td>\n",
       "      <td>Hubert</td>\n",
       "      <td>Arnold</td>\n",
       "      <td>harnold@yandex.com</td>\n",
       "    </tr>\n",
       "    <tr>\n",
       "      <th>2</th>\n",
       "      <td>lg794</td>\n",
       "      <td>65</td>\n",
       "      <td>Loris</td>\n",
       "      <td>Goulet</td>\n",
       "      <td>lgoulet@yandex.com</td>\n",
       "    </tr>\n",
       "    <tr>\n",
       "      <th>3</th>\n",
       "      <td>tb566</td>\n",
       "      <td>563</td>\n",
       "      <td>Teodora</td>\n",
       "      <td>Brunelli</td>\n",
       "      <td>tbrunelli@outlook.com</td>\n",
       "    </tr>\n",
       "    <tr>\n",
       "      <th>4</th>\n",
       "      <td>lh506</td>\n",
       "      <td>563</td>\n",
       "      <td>Lexie</td>\n",
       "      <td>Hunt</td>\n",
       "      <td>lhunt@live.com</td>\n",
       "    </tr>\n",
       "    <tr>\n",
       "      <th>5</th>\n",
       "      <td>lh382</td>\n",
       "      <td>563</td>\n",
       "      <td>Lambert</td>\n",
       "      <td>Huber</td>\n",
       "      <td>lhuber@live.com</td>\n",
       "    </tr>\n",
       "    <tr>\n",
       "      <th>6</th>\n",
       "      <td>em444</td>\n",
       "      <td>563</td>\n",
       "      <td>Emmy</td>\n",
       "      <td>Morin</td>\n",
       "      <td>emorin@live.com</td>\n",
       "    </tr>\n",
       "    <tr>\n",
       "      <th>7</th>\n",
       "      <td>at582</td>\n",
       "      <td>1572</td>\n",
       "      <td>Armonda</td>\n",
       "      <td>Trani</td>\n",
       "      <td>atrani@live.com</td>\n",
       "    </tr>\n",
       "    <tr>\n",
       "      <th>8</th>\n",
       "      <td>id772</td>\n",
       "      <td>1911</td>\n",
       "      <td>Ilana</td>\n",
       "      <td>Duke</td>\n",
       "      <td>iduke@outlook.com</td>\n",
       "    </tr>\n",
       "    <tr>\n",
       "      <th>9</th>\n",
       "      <td>lw275</td>\n",
       "      <td>65</td>\n",
       "      <td>Leigha</td>\n",
       "      <td>Wright</td>\n",
       "      <td>lwright@live.com</td>\n",
       "    </tr>\n",
       "  </tbody>\n",
       "</table>\n",
       "</div>"
      ],
      "text/plain": [
       "  backer_id  cf_id first_name last_name                  email\n",
       "0     av166    968     Angelo   Vincent      avincent@live.com\n",
       "1     ha127    563     Hubert    Arnold     harnold@yandex.com\n",
       "2     lg794     65      Loris    Goulet     lgoulet@yandex.com\n",
       "3     tb566    563    Teodora  Brunelli  tbrunelli@outlook.com\n",
       "4     lh506    563      Lexie      Hunt         lhunt@live.com\n",
       "5     lh382    563    Lambert     Huber        lhuber@live.com\n",
       "6     em444    563       Emmy     Morin        emorin@live.com\n",
       "7     at582   1572    Armonda     Trani        atrani@live.com\n",
       "8     id772   1911      Ilana      Duke      iduke@outlook.com\n",
       "9     lw275     65     Leigha    Wright       lwright@live.com"
      ]
     },
     "execution_count": 7,
     "metadata": {},
     "output_type": "execute_result"
    }
   ],
   "source": [
    "# Create a \"first\"name\" and \"last_name\" column with the first and last names from the \"name\" column. \n",
    "backer_info_df[[\"first_name\",\"last_name\"]] = backer_info_df[\"name\"].str.split(' ', n=1, expand=True)\n",
    "backer_info_df\n",
    "\n",
    "# Drop the name column. \n",
    "backer_info_clean = backer_info_df.drop(['name'], axis=1)\n",
    "\n",
    "backer_info_clean = backer_info_clean[['backer_id', 'cf_id', 'first_name', 'last_name', 'email']]\n",
    "backer_info_clean.head(10)"
   ]
  },
  {
   "cell_type": "code",
   "execution_count": 9,
   "id": "c6deafbd",
   "metadata": {},
   "outputs": [],
   "source": [
    "backer_info_clean.to_csv('backers.csv')"
   ]
  },
  {
   "cell_type": "code",
   "execution_count": null,
   "id": "6df94971",
   "metadata": {},
   "outputs": [],
   "source": []
  },
  {
   "cell_type": "code",
   "execution_count": null,
   "id": "70ec6bbd",
   "metadata": {},
   "outputs": [],
   "source": []
  }
 ],
 "metadata": {
  "kernelspec": {
   "display_name": "PythonData",
   "language": "python",
   "name": "pythondata"
  },
  "language_info": {
   "codemirror_mode": {
    "name": "ipython",
    "version": 3
   },
   "file_extension": ".py",
   "mimetype": "text/x-python",
   "name": "python",
   "nbconvert_exporter": "python",
   "pygments_lexer": "ipython3",
   "version": "3.9.12"
  }
 },
 "nbformat": 4,
 "nbformat_minor": 5
}
